{
 "cells": [
  {
   "cell_type": "markdown",
   "id": "db83c522-5e6c-480b-a7ce-6ffeadf539ce",
   "metadata": {},
   "source": [
    "Q1) What is a database? Differentiate between SQL and NoSQL databases."
   ]
  },
  {
   "cell_type": "code",
   "execution_count": null,
   "id": "795efcaf-a271-40de-a749-53a0f69671e3",
   "metadata": {},
   "outputs": [],
   "source": [
    "A database is a structured collection of data that is organized and managed in a way that allows efficient storage, retrieval, and manipulation of information. \n",
    "Databases are commonly used in software applications and systems to store and manage information, such as customer data, inventory information, financial \n",
    "transactions, and more.\n",
    "\n",
    "There are two main types of databases: SQL (relational) databases and NoSQL (non-relational) databases.\n",
    "\n",
    "SQL databases are based on the relational model, which organizes data into tables, columns, and rows, with a fixed schema that describes the structure of the data.\n",
    "SQL databases use Structured Query Language (SQL) to manipulate data and perform operations such as inserting, updating, deleting, and querying data. SQL\n",
    "databases are commonly used in business applications, such as finance, accounting, and inventory management.\n",
    "\n",
    "NoSQL databases, on the other hand, do not have a fixed schema and are not based on the relational model. NoSQL databases are designed to handle large volumes of \n",
    "unstructured or semi-structured data, and they provide greater flexibility and scalability compared to SQL databases. NoSQL databases use a variety of data models,\n",
    "such as document-oriented, key-value, graph, and column-family, to store and manipulate data. NoSQL databases are commonly used in web applications, social media,\n",
    "and big data applications.\n",
    "\n",
    "The main differences between SQL and NoSQL databases are:\n",
    "\n",
    "1.Data Model: SQL databases use a fixed schema and are based on the relational model, while NoSQL databases have a dynamic schema and use a variety of data\n",
    "models.\n",
    "\n",
    "2.Scalability: NoSQL databases are designed to handle large volumes of data and provide greater scalability and flexibility than SQL databases.\n",
    "\n",
    "3.Performance: NoSQL databases can provide faster performance for some types of operations, such as retrieving large volumes of data, compared to SQL databases.\n",
    "\n",
    "4.Query Language: SQL databases use SQL to query and manipulate data, while NoSQL databases use a variety of query languages, such as MongoDB's query language \n",
    "for document-oriented databases or Cassandra's CQL for column-family databases.\n",
    "\n",
    "In general, the choice between a SQL or NoSQL database will depend on the specific needs and requirements of the application or system being developed."
   ]
  },
  {
   "cell_type": "markdown",
   "id": "601ac016-a2ca-4917-b2ac-d8c967330400",
   "metadata": {},
   "source": [
    "Q2) What is DDL? Explain why CREATE, DROP, ALTER, and TRUNCATE are used with an example."
   ]
  },
  {
   "cell_type": "code",
   "execution_count": null,
   "id": "03bb53e4-f379-4cd7-aedb-1c91b738b645",
   "metadata": {},
   "outputs": [],
   "source": [
    "DDL stands for Data Definition Language, which is a subset of SQL used to define, modify, and delete database objects such as tables, indexes, views, and \n",
    "procedures. DDL statements are used to create, drop, alter, and truncate database objects.\n",
    "\n",
    "Here are some examples of DDL statements and their uses:\n",
    "\n",
    "1)CREATE statement: This is used to create new database objects such as tables, indexes, views, and procedures. For example, to create a new table called \n",
    "\"customers\" with columns for customer ID, name, and email, the following SQL statement can be used:\n",
    "CREATE TABLE customers ( customer_id INT PRIMARY KEY, name VARCHAR(50), email VARCHAR(50) );\n",
    "\n",
    "2)DROP statement: This is used to delete existing database objects such as tables, indexes, views, and procedures. For example, to delete the \"customers\" table \n",
    "created in the previous example, the following SQL statement can be used:\n",
    "DROP TABLE customers;\n",
    "\n",
    "3)ALTER statement: This is used to modify the structure of an existing database object, such as adding or dropping columns or changing data types. For example, to\n",
    "add a new column called \"phone\" to the \"customers\" table, the following SQL statement can be used:\n",
    "ALTER TABLE customers ADD phone VARCHAR(20);\n",
    "\n",
    "40TRUNCATE statement: This is used to delete all data from a table, but not the table structure itself. For example, to delete all data from the \"customers\" table,\n",
    "the following SQL statement can be used:\n",
    "TRUNCATE TABLE customers;\n",
    "\n",
    "In summary, DDL statements are used to create, modify, and delete database objects such as tables, indexes, views, and procedures. The four commonly used DDL\n",
    "statements are CREATE, DROP, ALTER, and TRUNCATE. These statements allow database administrators to manage the structure and content of a database, making it \n",
    "possible to organize and manipulate data in a way that supports the needs of an application or system."
   ]
  },
  {
   "cell_type": "markdown",
   "id": "7eacc664-d624-4ef9-a771-7a95b745674b",
   "metadata": {},
   "source": [
    "Q3) What is DML? Explain INSERT, UPDATE, and DELETE with an example."
   ]
  },
  {
   "cell_type": "code",
   "execution_count": null,
   "id": "cad4e433-af05-4514-9547-7ea545562480",
   "metadata": {},
   "outputs": [],
   "source": [
    "DML stands for Data Manipulation Language, which is a subset of SQL used to manipulate data within a database. DML statements are used to insert, update, and \n",
    "delete data from database tables.\n",
    "\n",
    "Here are some examples of DML statements and their uses:\n",
    "\n",
    "1)INSERT statement: This is used to add new data to a table. For example, to add a new row to the \"customers\" table with customer ID 1, name \"John Smith\", and \n",
    "email \"john@example.com\", the following SQL statement can be used:\n",
    "INSERT INTO customers (customer_id, name, email) VALUES (1, 'John Smith', 'john@example.com');\n",
    "\n",
    "2)UPDATE statement: This is used to modify existing data in a table. For example, to update the email address for the customer with ID 1 to \"johnsmith@example.com\",\n",
    "the following SQL statement can be used:\n",
    "\n",
    "UPDATE customers SET email = 'johnsmith@example.com' WHERE customer_id = 1;\n",
    "\n",
    "3)DELETE statement: This is used to delete data from a table. For example, to delete the row for the customer with ID 1 from the \"customers\" table, the following\n",
    "SQL statement can be used:\n",
    "\n",
    "DELETE FROM customers WHERE customer_id = 1;\n",
    "\n",
    "In summary, DML statements are used to manipulate data within a database. The three commonly used DML statements are INSERT, UPDATE, and DELETE. These statements\n",
    "allow database administrators to add, modify, and remove data from a database, making it possible to keep the data up to date and relevant for an application or \n",
    "system."
   ]
  },
  {
   "cell_type": "markdown",
   "id": "85622ba4-581b-420d-bf40-eed1d44db411",
   "metadata": {},
   "source": [
    "Q4) What is DQL? Explain SELECT with an example."
   ]
  },
  {
   "cell_type": "code",
   "execution_count": null,
   "id": "6e4198b1-4ba0-42c5-8dcc-5a1634871499",
   "metadata": {},
   "outputs": [],
   "source": [
    "DQL stands for Data Query Language, which is a subset of SQL used to retrieve data from one or more database tables. DQL statements are used to perform queries\n",
    "that retrieve data based on specific criteria.\n",
    "\n",
    "Here are some examples of a DQL statement and its use:\n",
    "\n",
    "SELECT statement: This is used to retrieve data from a table or multiple tables. For example, to retrieve all the data from the \"customers\" table, the following \n",
    "SQL statement can be used:\n",
    "\n",
    "ex1: SELECT * FROM customers;\n",
    "\n",
    "This statement will retrieve all the columns of data from the \"customers\" table. If you only wanted to retrieve specific columns, you could specify them in the \n",
    "SELECT statement like this:\n",
    "\n",
    "ex2: SELECT customer_id, name FROM customers;\n",
    "\n",
    "This statement will retrieve only the customer ID and name columns from the \"customers\" table.\n",
    "\n",
    "You can also use SELECT statements to filter the data that is retrieved. For example, if you wanted to retrieve only the data for customers whose name is\n",
    "\"John Smith\", you could use the following SQL statement:\n",
    "\n",
    "ex3: SELECT * FROM customers WHERE name = 'John Smith';\n",
    "\n",
    "This statement will retrieve all the columns of data from the \"customers\" table for customers whose name is \"John Smith\".\n",
    "\n",
    "In summary, DQL statements are used to retrieve data from one or more database tables. The SELECT statement is the primary DQL statement used to retrieve data,\n",
    "and it can be used to retrieve all data, specific columns of data, or filtered data based on specific criteria."
   ]
  },
  {
   "cell_type": "markdown",
   "id": "e0996517-4eab-4490-9303-90ef1b3d872d",
   "metadata": {},
   "source": [
    "Q5) Explain Primary Key and Foreign Key."
   ]
  },
  {
   "cell_type": "code",
   "execution_count": null,
   "id": "c49e86be-4f33-4fe9-840b-d99c98cf4273",
   "metadata": {},
   "outputs": [],
   "source": [
    "In a relational database, a primary key and a foreign key are used to establish relationships between tables. Here is an explanation of each key:\n",
    "\n",
    "1)Primary Key: A primary key is a field or a combination of fields in a table that uniquely identifies each row or record in that table. Each table can have only \n",
    "one primary key, and it is used to enforce data integrity by ensuring that no two rows in the table have the same value for the primary key field(s). A primary\n",
    "key can be composed of one or more columns, and it is typically used as the basis for creating relationships with other tables. For example, in a database of \n",
    "customers and orders, the customer ID might be the primary key of the customers table.\n",
    "\n",
    "2)Foreign Key: A foreign key is a field or a combination of fields in a table that refers to the primary key of another table. It is used to establish a\n",
    "relationship between two tables, with the foreign key in one table pointing to the primary key of the other table. A foreign key ensures that data integrity is\n",
    "maintained between the two tables by preventing the creation of orphaned records in the referencing table. Orphaned records are records in the referencing table \n",
    "that do not have a corresponding record in the referenced table. For example, in a database of customers and orders, the order table might have a foreign key\n",
    "column that references the customer ID primary key in the customers table.\n",
    "\n",
    "In summary, a primary key uniquely identifies each row in a table and is used as a basis for establishing relationships with other tables. A foreign key is a \n",
    "reference to the primary key of another table and is used to establish a relationship between two tables, enforcing data integrity between the two tables."
   ]
  },
  {
   "cell_type": "markdown",
   "id": "7fbe9a34-531f-4aa1-81c7-2898760a4be5",
   "metadata": {},
   "source": [
    "Q6) Write a python code to connect MySQL to python. Explain the cursor() and execute() method."
   ]
  },
  {
   "cell_type": "code",
   "execution_count": null,
   "id": "6d1c3e7e-a949-4d63-b6e5-794c42921751",
   "metadata": {},
   "outputs": [],
   "source": [
    "Python code to connect to MySQL using the mysql-connector library"
   ]
  },
  {
   "cell_type": "code",
   "execution_count": null,
   "id": "cd86089c-d717-4955-ac42-e60997bbea43",
   "metadata": {},
   "outputs": [],
   "source": [
    "import mysql.connector\n",
    "\n",
    "# create a connection to the database\n",
    "cnx = mysql.connector.connect(\n",
    "  host=\"localhost\",\n",
    "  user=\"yourusername\",\n",
    "  password=\"yourpassword\",\n",
    "  database=\"yourdatabase\"\n",
    ")\n",
    "\n",
    "# create a cursor object to interact with the database\n",
    "cursor = cnx.cursor()\n",
    "\n",
    "# execute a query using the execute() method\n",
    "cursor.execute(\"SELECT * FROM customers\")\n",
    "\n",
    "# fetch the results using the fetchall() method\n",
    "results = cursor.fetchall()\n",
    "\n",
    "# print the results\n",
    "for row in results:\n",
    "    print(row)\n",
    "\n",
    "# close the connection\n",
    "cnx.close()"
   ]
  },
  {
   "cell_type": "code",
   "execution_count": null,
   "id": "ec7371e5-3155-4795-993b-575a971cd7d9",
   "metadata": {},
   "outputs": [],
   "source": [
    "In this example, we are using the mysql-connector library to connect to a MySQL database. The connect() function is used to create a connection object, which takes\n",
    "four arguments: the host name, username, password, and database name. Once the connection is established, we can create a cursor object using the cursor() method. The cursor object is used to execute SQL queries and fetch the results.\n",
    "\n",
    "The execute() method is used to execute an SQL query on the database. It takes a single argument, which is the SQL query to execute. In the example above, we \n",
    "execute a SELECT query to retrieve all rows from the customers table.\n",
    "\n",
    "After executing the query, we use the fetchall() method to retrieve all of the rows that were returned by the query. The fetchall() method returns a list of \n",
    "tuples, where each tuple represents a row in the results.\n",
    "\n",
    "Finally, we iterate through the results and print each row. Once we are done with the database, we close the connection using the close() method.\n",
    "\n",
    "In summary, the cursor() method is used to create a cursor object that can be used to execute SQL queries on the database. The execute() method is used to execute\n",
    "an SQL query, and the fetchall() method is used to retrieve the results of the query."
   ]
  },
  {
   "cell_type": "markdown",
   "id": "f1a1f8ae-ee9f-4685-81e3-d7160d348ce2",
   "metadata": {},
   "source": [
    "Q7) Give the order of execution of SQL clauses in an SQL query."
   ]
  },
  {
   "cell_type": "code",
   "execution_count": null,
   "id": "c129f4a8-d642-4109-b9ba-1047099f7f7c",
   "metadata": {},
   "outputs": [],
   "source": []
  }
 ],
 "metadata": {
  "kernelspec": {
   "display_name": "Python 3 (ipykernel)",
   "language": "python",
   "name": "python3"
  },
  "language_info": {
   "codemirror_mode": {
    "name": "ipython",
    "version": 3
   },
   "file_extension": ".py",
   "mimetype": "text/x-python",
   "name": "python",
   "nbconvert_exporter": "python",
   "pygments_lexer": "ipython3",
   "version": "3.10.8"
  }
 },
 "nbformat": 4,
 "nbformat_minor": 5
}
